{
 "cells": [
  {
   "cell_type": "code",
   "execution_count": 1,
   "metadata": {},
   "outputs": [],
   "source": [
    "using SparseArrays, LightGraphs\n",
    "include(\"src/DC.jl\")\n",
    "using .DC"
   ]
  },
  {
   "cell_type": "code",
   "execution_count": 2,
   "metadata": {},
   "outputs": [],
   "source": [
    "# define graph\n",
    "L = 4;\n",
    "G = grid([L,L], periodic = true)\n",
    "Adj = adjacency_matrix(G);\n",
    "N = L^2\n",
    "\n",
    "#set couplings\n",
    "J = Adj.* rand([-1,1],N,N);\n",
    "#set fields\n",
    "h = fill(0.1, N);"
   ]
  },
  {
   "cell_type": "code",
   "execution_count": 5,
   "metadata": {},
   "outputs": [],
   "source": [
    "β = 1.0;\n",
    "ψ = DC.IsingFG(N,β*h,β*J, :EnergyFun); # computes moments numerically by running the trace over {-1,1}^2\n",
    "ψ = DC.IsingFG(N,β*h,β*J, :IsingPair); # computes moments analytically\n",
    "\n",
    "#BP -> set η = 0.0 to compute BP fixed points (valid on any graph topology)\n",
    "#ϕBP , res, it, epsv = density_consistency(ψ,N, epsconv = 1e-10, ρ = 0.9, closure = :DC, verbose = true, η = 0.);"
   ]
  },
  {
   "cell_type": "code",
   "execution_count": 6,
   "metadata": {},
   "outputs": [
    {
     "name": "stdout",
     "output_type": "stream",
     "text": [
      "Closure DC (η = 0.99) converged in 758 iterations w.r.t params - err params = 9.894054507242345e-6 - err moments = 2.0066885964009629e-7\n"
     ]
    }
   ],
   "source": [
    "ϕ , res, it, epsv = density_consistency(ψ,N; epsconv = 1e-5, ρ = 0.95, closure = :DC, verbose = true, Λ = 10., λ = 1e-8, η = 1 - 1e-2, convtype = :params);"
   ]
  },
  {
   "cell_type": "code",
   "execution_count": 7,
   "metadata": {},
   "outputs": [
    {
     "data": {
      "text/plain": [
       "16-element Array{Float64,1}:\n",
       "  0.10644329067439319\n",
       " -0.18425866715769187\n",
       "  0.18425866107277708\n",
       " -0.18425866069911653\n",
       "  0.11787268093515968\n",
       "  0.1842586684204847 \n",
       "  0.1842586684204847 \n",
       "  0.11828594568436733\n",
       " -0.18425865984354198\n",
       "  0.18425866579281736\n",
       "  0.18425866684877923\n",
       "  0.10860424497968595\n",
       " -0.18425866804263827\n",
       " -0.18425866753735418\n",
       " -0.18425866323470358\n",
       "  0.18425866323470358"
      ]
     },
     "execution_count": 7,
     "metadata": {},
     "output_type": "execute_result"
    }
   ],
   "source": [
    "ϕ.μt"
   ]
  },
  {
   "cell_type": "code",
   "execution_count": 8,
   "metadata": {},
   "outputs": [
    {
     "data": {
      "text/plain": [
       "16×16 Array{Float64,2}:\n",
       "  0.98867   -0.260564   0.0       …   0.0        0.0        0.0     \n",
       " -0.260564   0.966049  -0.966049      0.966049   0.0        0.0     \n",
       "  0.0       -0.966049   0.966049      0.0       -0.966049   0.0     \n",
       " -0.297628   0.0       -0.966049      0.0        0.0       -0.966049\n",
       " -0.283817   0.0        0.0           0.0        0.0        0.0     \n",
       "  0.0       -0.966049   0.0       …   0.0        0.0        0.0     \n",
       "  0.0        0.0        0.966049      0.0        0.0        0.0     \n",
       "  0.0        0.0        0.0           0.0        0.0        0.0     \n",
       "  0.0        0.0        0.0           0.0        0.0        0.0     \n",
       "  0.0        0.0        0.0          -0.966049   0.0        0.0     \n",
       "  0.0        0.0        0.0       …   0.0       -0.966049   0.0     \n",
       "  0.0        0.0        0.0           0.0        0.0        0.290405\n",
       " -0.28683    0.0        0.0           0.966049   0.0       -0.966049\n",
       "  0.0        0.966049   0.0           0.966049   0.966049   0.0     \n",
       "  0.0        0.0       -0.966049      0.966049   0.966049  -0.966049\n",
       "  0.0        0.0        0.0       …   0.0       -0.966049   0.966049"
      ]
     },
     "execution_count": 8,
     "metadata": {},
     "output_type": "execute_result"
    }
   ],
   "source": [
    "ϕ.Σt"
   ]
  },
  {
   "cell_type": "code",
   "execution_count": null,
   "metadata": {},
   "outputs": [],
   "source": [
    "ϕs = DCState(N,[length(ψ[a].idx) for a=1:length(ψ)])\n"
   ]
  },
  {
   "cell_type": "code",
   "execution_count": null,
   "metadata": {},
   "outputs": [],
   "source": [
    "density_consistency(ψ,N; state  = ϕs,epsconv = 1e-5, ρ = 0.95, closure = :DC, verbose = true, Λ = 10., λ = 1e-8, η = 1.1, convtype = :moments);"
   ]
  },
  {
   "cell_type": "code",
   "execution_count": null,
   "metadata": {},
   "outputs": [],
   "source": [
    "ϕs.Σt"
   ]
  },
  {
   "cell_type": "code",
   "execution_count": null,
   "metadata": {},
   "outputs": [],
   "source": [
    "Float64(19)"
   ]
  },
  {
   "cell_type": "code",
   "execution_count": null,
   "metadata": {},
   "outputs": [],
   "source": [
    "?DC.EnergyFun"
   ]
  },
  {
   "cell_type": "code",
   "execution_count": null,
   "metadata": {},
   "outputs": [],
   "source": []
  }
 ],
 "metadata": {
  "kernelspec": {
   "display_name": "Julia 1.3.1",
   "language": "julia",
   "name": "julia-1.3"
  },
  "language_info": {
   "file_extension": ".jl",
   "mimetype": "application/julia",
   "name": "julia",
   "version": "1.3.1"
  }
 },
 "nbformat": 4,
 "nbformat_minor": 5
}
