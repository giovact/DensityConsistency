{
 "cells": [
  {
   "cell_type": "code",
   "execution_count": 28,
   "metadata": {},
   "outputs": [
    {
     "name": "stderr",
     "output_type": "stream",
     "text": [
      "WARNING: replacing module DC.\n",
      "WARNING: using DC.density_consistency in module Main conflicts with an existing identifier.\n",
      "WARNING: using DC.DCState in module Main conflicts with an existing identifier.\n"
     ]
    }
   ],
   "source": [
    "using SparseArrays, LightGraphs\n",
    "include(\"src/DC.jl\")\n",
    "using .DC"
   ]
  },
  {
   "cell_type": "code",
   "execution_count": 29,
   "metadata": {},
   "outputs": [
    {
     "data": {
      "text/latex": [
       "Density consistency algorithm\n",
       "\n",
       "Compute approximate marginals of $p( \\bf{x} )=\\frac1Z \\prod_a \\psi_{a}(x_{\\partial a})$ Input:\n",
       "\n",
       "\\begin{itemize}\n",
       "\\item \\texttt{Ψ::Vector\\{<:Factor\\}}\n",
       "\n",
       "\n",
       "\\item \\texttt{N::Int}\n",
       "\n",
       "\n",
       "\\item \\texttt{closure::Symbol = :DC,}\t\t\t\t\t\t\t\t\t\\# closure protocol (default = :DC)\n",
       "\n",
       "\n",
       "\\item \\texttt{maxiter::Int64 = 2000,}\n",
       "\n",
       "\n",
       "\\item \\texttt{η::Float64 = 1.0,}\t\t\t\t\t\t\t\t\t\\# interpolation parameter (DC closure) η=0 gives BP fixed points\n",
       "\n",
       "\n",
       "\\item \\texttt{γ0::Float64 = 0.0,}\t\t\t\t\t\t\t\t\t\\# reinforcement\n",
       "\n",
       "\n",
       "\\item \\texttt{epsconv::Float64 = 1e-6,}\t\t\t\t\t\t\t\t\\# precision convergence\n",
       "\n",
       "\n",
       "\\item \\texttt{Λ::Float64 = 1e-15,}\t\t\t\t\t\t\t\t\\# add a diagonal matrix Λ*I in the inversion of the full correlation matrix\n",
       "\n",
       "\n",
       "\\item \\texttt{λ::Float64 = 1e-15,}\t\t\t\t\t\t\t\t\\# add a diagonal matrix λ*I in the inversion of the cavity and tilted correlation matrices\n",
       "\n",
       "\n",
       "\\item \\texttt{update::Symbol = :par,}\t\t\t\t\t\t\t\t\\# type of update (parallel or sequential)\n",
       "\n",
       "\n",
       "\\item \\texttt{rndamp::Bool = false,}\t\t\t\t\t\t\t\t\\# eventually, apply a random damping (might be useful in parallel update)\n",
       "\n",
       "\n",
       "\\item \\texttt{epsclamp::Float64 = 1e-15,}\t\t\t\t\t\t\t\t\\# clamp\n",
       "\n",
       "\n",
       "\\item \\texttt{ρ::Float64 = 0.0,}\t\t\t\t\t\t\t\t\\# damping for parameters' update (ρ = 0 means no damping)\n",
       "\n",
       "\n",
       "\\item \\texttt{verbose::Bool = true,}\t\t\t\t\t\t\t\t\\# print at (un)convergence\n",
       "\n",
       "\n",
       "\\item \\texttt{Hg::Vector\\{Float64\\} = zeros(N),}\n",
       "\n",
       "\n",
       "\\item \\texttt{Ag::Matrix\\{Float64\\} = zeros(N,N),}\n",
       "\n",
       "\n",
       "\\item \\texttt{convtype::Symbol = :params,}\t\t\t\t\t\t\\# convergence criterion : tilted moments or gaussian factor parameters\n",
       "\n",
       "\n",
       "\\item \\texttt{seed :: Int64 = -1,}\n",
       "\n",
       "\n",
       "\\item \\texttt{callback::Function  = (x...)->nothing,}\n",
       "\n",
       "\n",
       "\\item \\texttt{h0scale::Float64 = 1e-3,}\n",
       "\n",
       "\n",
       "\\item \\texttt{state::DCState = DCState( N, [length(Ψ[a].idx) for a=1:length(Ψ)]; h0 = h0scale),}\n",
       "\n",
       "\\end{itemize}\n"
      ],
      "text/markdown": [
       "Density consistency algorithm\n",
       "\n",
       "Compute approximate marginals of $p( \\bf{x} )=\\frac1Z \\prod_a \\psi_{a}(x_{\\partial a})$ Input:\n",
       "\n",
       "  * `Ψ::Vector{<:Factor}`\n",
       "  * `N::Int`\n",
       "  * `closure::Symbol = :DC,`\t\t\t\t\t\t\t\t\t# closure protocol (default = :DC)\n",
       "  * `maxiter::Int64 = 2000,`\n",
       "  * `η::Float64 = 1.0,`\t\t\t\t\t\t\t\t\t# interpolation parameter (DC closure) η=0 gives BP fixed points\n",
       "  * `γ0::Float64 = 0.0,`\t\t\t\t\t\t\t\t\t# reinforcement\n",
       "  * `epsconv::Float64 = 1e-6,`\t\t\t\t\t\t\t\t# precision convergence\n",
       "  * `Λ::Float64 = 1e-15,`\t\t\t\t\t\t\t\t# add a diagonal matrix Λ*I in the inversion of the full correlation matrix\n",
       "  * `λ::Float64 = 1e-15,`\t\t\t\t\t\t\t\t# add a diagonal matrix λ*I in the inversion of the cavity and tilted correlation matrices\n",
       "  * `update::Symbol = :par,`\t\t\t\t\t\t\t\t# type of update (parallel or sequential)\n",
       "  * `rndamp::Bool = false,`\t\t\t\t\t\t\t\t# eventually, apply a random damping (might be useful in parallel update)\n",
       "  * `epsclamp::Float64 = 1e-15,`\t\t\t\t\t\t\t\t# clamp\n",
       "  * `ρ::Float64 = 0.0,`\t\t\t\t\t\t\t\t# damping for parameters' update (ρ = 0 means no damping)\n",
       "  * `verbose::Bool = true,`\t\t\t\t\t\t\t\t# print at (un)convergence\n",
       "  * `Hg::Vector{Float64} = zeros(N),`\n",
       "  * `Ag::Matrix{Float64} = zeros(N,N),`\n",
       "  * `convtype::Symbol = :params,`\t\t\t\t\t\t# convergence criterion : tilted moments or gaussian factor parameters\n",
       "  * `seed :: Int64 = -1,`\n",
       "  * `callback::Function  = (x...)->nothing,`\n",
       "  * `h0scale::Float64 = 1e-3,`\n",
       "  * `state::DCState = DCState( N, [length(Ψ[a].idx) for a=1:length(Ψ)]; h0 = h0scale),`\n"
      ],
      "text/plain": [
       "  Density consistency algorithm\n",
       "\n",
       "  Compute approximate marginals of \u001b[35mp( \\bf{x} )=\\frac1Z \\prod_a\n",
       "  \\psi_{a}(x_{\\partial a})\u001b[39m Input:\n",
       "\n",
       "    •    \u001b[36mΨ::Vector{<:Factor}\u001b[39m\n",
       "\n",
       "    •    \u001b[36mN::Int\u001b[39m\n",
       "\n",
       "    •    \u001b[36mclosure::Symbol = :DC,\u001b[39m # closure protocol (default = :DC)\n",
       "\n",
       "    •    \u001b[36mmaxiter::Int64 = 2000,\u001b[39m\n",
       "\n",
       "    •    \u001b[36mη::Float64 = 1.0,\u001b[39m # interpolation parameter (DC closure) η=0 gives\n",
       "        BP fixed points\n",
       "\n",
       "    •    \u001b[36mγ0::Float64 = 0.0,\u001b[39m # reinforcement\n",
       "\n",
       "    •    \u001b[36mepsconv::Float64 = 1e-6,\u001b[39m # precision convergence\n",
       "\n",
       "    •    \u001b[36mΛ::Float64 = 1e-15,\u001b[39m # add a diagonal matrix Λ*I in the inversion\n",
       "        of the full correlation matrix\n",
       "\n",
       "    •    \u001b[36mλ::Float64 = 1e-15,\u001b[39m # add a diagonal matrix λ*I in the inversion\n",
       "        of the cavity and tilted correlation matrices\n",
       "\n",
       "    •    \u001b[36mupdate::Symbol = :par,\u001b[39m # type of update (parallel or sequential)\n",
       "\n",
       "    •    \u001b[36mrndamp::Bool = false,\u001b[39m # eventually, apply a random damping (might\n",
       "        be useful in parallel update)\n",
       "\n",
       "    •    \u001b[36mepsclamp::Float64 = 1e-15,\u001b[39m # clamp\n",
       "\n",
       "    •    \u001b[36mρ::Float64 = 0.0,\u001b[39m # damping for parameters' update (ρ = 0 means no\n",
       "        damping)\n",
       "\n",
       "    •    \u001b[36mverbose::Bool = true,\u001b[39m # print at (un)convergence\n",
       "\n",
       "    •    \u001b[36mHg::Vector{Float64} = zeros(N),\u001b[39m\n",
       "\n",
       "    •    \u001b[36mAg::Matrix{Float64} = zeros(N,N),\u001b[39m\n",
       "\n",
       "    •    \u001b[36mconvtype::Symbol = :params,\u001b[39m # convergence criterion : tilted\n",
       "        moments or gaussian factor parameters\n",
       "\n",
       "    •    \u001b[36mseed :: Int64 = -1,\u001b[39m\n",
       "\n",
       "    •    \u001b[36mcallback::Function  = (x...)->nothing,\u001b[39m\n",
       "\n",
       "    •    \u001b[36mh0scale::Float64 = 1e-3,\u001b[39m\n",
       "\n",
       "    •    \u001b[36mstate::DCState = DCState( N, [length(Ψ[a].idx) for a=1:length(Ψ)];\n",
       "        h0 = h0scale),\u001b[39m"
      ]
     },
     "execution_count": 29,
     "metadata": {},
     "output_type": "execute_result"
    }
   ],
   "source": [
    "?DC.density_consistency"
   ]
  },
  {
   "cell_type": "code",
   "execution_count": null,
   "metadata": {},
   "outputs": [],
   "source": [
    "# define graph\n",
    "L = 4;\n",
    "G = grid([L,L], periodic = true)\n",
    "Adj = adjacency_matrix(G);\n",
    "N = L^2\n",
    "\n",
    "#set couplings\n",
    "J = Adj.* rand([-1,1],N,N);\n",
    "#set fields\n",
    "h = fill(0.1, N);"
   ]
  },
  {
   "cell_type": "code",
   "execution_count": null,
   "metadata": {},
   "outputs": [],
   "source": [
    "β = 1.0;\n",
    "ψ = DC.IsingFG(N,β*h,β*J, :Fun); # computes moments numerically by running the trace over {-1,1}^2\n",
    "#ψ = DC.IsingFG(N,β*h,β*J, :PairIsing); # computes moments analytically\n",
    "\n",
    "\n",
    "#BP -> set η = 0.0 to compute BP fixed points (valid on any graph topology)\n",
    "#ϕBP , res, it, epsv = density_consistency(ψ,N, epsconv = 1e-10, ρ = 0.9, closure = :DC, verbose = true, η = 0.);"
   ]
  },
  {
   "cell_type": "code",
   "execution_count": null,
   "metadata": {},
   "outputs": [],
   "source": [
    "ϕ , res, it, epsv = density_consistency(ψ,N, epsconv = 1e-5, ρ = 0.95, closure = :DC, verbose = true, Λ = 10., λ = 1e-8, η = 1 - 1e-4, convtype = :params);"
   ]
  },
  {
   "cell_type": "code",
   "execution_count": null,
   "metadata": {},
   "outputs": [],
   "source": [
    "ϕs = DCState(N,[length(ψ[a].idx) for a=1:length(ψ)])\n"
   ]
  },
  {
   "cell_type": "code",
   "execution_count": null,
   "metadata": {},
   "outputs": [],
   "source": [
    "density_consistency(ψ,N; state  = ϕs,epsconv = 1e-5, ρ = 0.95, closure = :DC, verbose = true, Λ = 10., λ = 1e-8, η = 1.1, convtype = :moments);"
   ]
  },
  {
   "cell_type": "code",
   "execution_count": null,
   "metadata": {},
   "outputs": [],
   "source": [
    "ϕs.Σt"
   ]
  },
  {
   "cell_type": "code",
   "execution_count": null,
   "metadata": {},
   "outputs": [],
   "source": [
    "Float64(19)"
   ]
  },
  {
   "cell_type": "code",
   "execution_count": null,
   "metadata": {},
   "outputs": [],
   "source": [
    "?DC.EnergyFun"
   ]
  },
  {
   "cell_type": "code",
   "execution_count": null,
   "metadata": {},
   "outputs": [],
   "source": []
  }
 ],
 "metadata": {
  "kernelspec": {
   "display_name": "Julia 1.3.1",
   "language": "julia",
   "name": "julia-1.3"
  },
  "language_info": {
   "file_extension": ".jl",
   "mimetype": "application/julia",
   "name": "julia",
   "version": "1.3.1"
  }
 },
 "nbformat": 4,
 "nbformat_minor": 5
}
