{
 "cells": [
  {
   "cell_type": "code",
   "execution_count": 1,
   "id": "independent-event",
   "metadata": {},
   "outputs": [],
   "source": [
    "using SparseArrays, LightGraphs\n",
    "include(\"src/DC.jl\")\n",
    "using .DC"
   ]
  },
  {
   "cell_type": "code",
   "execution_count": 2,
   "id": "progressive-offense",
   "metadata": {},
   "outputs": [],
   "source": [
    "# define graph\n",
    "L = 4;\n",
    "G = grid([L,L], periodic = true)\n",
    "Adj = adjacency_matrix(G);\n",
    "N = L^2\n",
    "\n",
    "#set couplings\n",
    "J = Adj.* rand([-1,1],N,N);\n",
    "#set fields\n",
    "h = fill(0.1, N);"
   ]
  },
  {
   "cell_type": "code",
   "execution_count": 20,
   "id": "overall-windows",
   "metadata": {},
   "outputs": [
    {
     "name": "stdout",
     "output_type": "stream",
     "text": [
      "Closure DC (η = 0.99) converged in 395 iterations w.r.t params - err params = 9.802399134173356e-6 - err moments = 2.5436985880056662e-11\n"
     ]
    }
   ],
   "source": [
    "β = 1.0;\n",
    "ψ = DC.IsingFG(N,β*h,β*J, :Fun); # computes moments numerically by running the trace over {-1,1}^2\n",
    "#ψ = DC.IsingFG(N,β*h,β*J, :PairIsing); # computes moments analytically\n",
    "ϕ , res, it, epsv = density_consistency(ψ,N, epsconv = 1e-5, ρ = 0.95, closure = :DC, verbose = true, Λ = 10., λ = 1e-8, η = 0.99);\n",
    "\n",
    "#BP -> set η = 0.0 to compute BP fixed points (valid on any graph topology)\n",
    "#ϕBP , res, it, epsv = density_consistency(ψ,N, epsconv = 1e-10, ρ = 0.9, closure = :DC, verbose = true, η = 0.);"
   ]
  },
  {
   "cell_type": "code",
   "execution_count": null,
   "id": "lucky-adapter",
   "metadata": {},
   "outputs": [],
   "source": []
  }
 ],
 "metadata": {
  "kernelspec": {
   "display_name": "Julia 1.3.1",
   "language": "julia",
   "name": "julia-1.3"
  },
  "language_info": {
   "file_extension": ".jl",
   "mimetype": "application/julia",
   "name": "julia",
   "version": "1.3.1"
  }
 },
 "nbformat": 4,
 "nbformat_minor": 5
}
